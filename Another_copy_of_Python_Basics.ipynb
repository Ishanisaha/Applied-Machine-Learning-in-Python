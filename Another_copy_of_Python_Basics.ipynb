{
  "nbformat": 4,
  "nbformat_minor": 0,
  "metadata": {
    "colab": {
      "provenance": [],
      "include_colab_link": true
    },
    "kernelspec": {
      "name": "python3",
      "display_name": "Python 3"
    },
    "language_info": {
      "name": "python"
    },
    "accelerator": "GPU"
  },
  "cells": [
    {
      "cell_type": "markdown",
      "metadata": {
        "id": "view-in-github",
        "colab_type": "text"
      },
      "source": [
        "<a href=\"https://colab.research.google.com/github/Ishanisaha/Applied-Machine-Learning-in-Python/blob/master/Another_copy_of_Python_Basics.ipynb\" target=\"_parent\"><img src=\"https://colab.research.google.com/assets/colab-badge.svg\" alt=\"Open In Colab\"/></a>"
      ]
    },
    {
      "cell_type": "markdown",
      "source": [
        "# ***Python Basics***"
      ],
      "metadata": {
        "id": "vLzWhnMys7fc"
      }
    },
    {
      "cell_type": "markdown",
      "metadata": {
        "id": "wVo9AuthEvrk"
      },
      "source": [
        "***Python Indentation***"
      ]
    },
    {
      "cell_type": "code",
      "metadata": {
        "colab": {
          "base_uri": "https://localhost:8080/"
        },
        "id": "QZVcU_mJEuSd",
        "outputId": "9bc522d2-672b-4ce8-ba79-42e47b82477b"
      },
      "source": [
        "if 5==5 :\n",
        " print(\"5 is equal to 5\")"
      ],
      "execution_count": 1,
      "outputs": [
        {
          "output_type": "stream",
          "name": "stdout",
          "text": [
            "5 is equal to 5\n"
          ]
        }
      ]
    },
    {
      "cell_type": "markdown",
      "metadata": {
        "id": "xoYZt0N8FMvQ"
      },
      "source": [
        "Incorrect Indentation :"
      ]
    },
    {
      "cell_type": "code",
      "metadata": {
        "colab": {
          "base_uri": "https://localhost:8080/",
          "height": 106
        },
        "id": "shGh319oFSNs",
        "outputId": "124bad9f-27a1-4718-ca16-69de2a04d1c6"
      },
      "source": [
        "if 5==5 :\n",
        "print(\"5 is equal to 5\")"
      ],
      "execution_count": 3,
      "outputs": [
        {
          "output_type": "error",
          "ename": "IndentationError",
          "evalue": "expected an indented block after 'if' statement on line 1 (<ipython-input-3-73e449793df9>, line 2)",
          "traceback": [
            "\u001b[0;36m  File \u001b[0;32m\"<ipython-input-3-73e449793df9>\"\u001b[0;36m, line \u001b[0;32m2\u001b[0m\n\u001b[0;31m    print(\"5 is equal to 5\")\u001b[0m\n\u001b[0m    ^\u001b[0m\n\u001b[0;31mIndentationError\u001b[0m\u001b[0;31m:\u001b[0m expected an indented block after 'if' statement on line 1\n"
          ]
        }
      ]
    },
    {
      "cell_type": "markdown",
      "metadata": {
        "id": "iCA5-2sZYd-O"
      },
      "source": [
        "***Printing in Python***"
      ]
    },
    {
      "cell_type": "code",
      "metadata": {
        "colab": {
          "base_uri": "https://localhost:8080/"
        },
        "id": "n10F1UOcYmke",
        "outputId": "c65cace4-07b1-481d-c649-04470f6b0bdc"
      },
      "source": [
        "print(\"Hello\")\n",
        "print('Hi')\n",
        "print(5)\n",
        "print('''Hello\n",
        "Hi\n",
        "5''')"
      ],
      "execution_count": 8,
      "outputs": [
        {
          "output_type": "stream",
          "name": "stdout",
          "text": [
            "Hello\n",
            "Hi\n",
            "5\n",
            "Hello\n",
            "Hi\n",
            "5\n"
          ]
        }
      ]
    },
    {
      "cell_type": "markdown",
      "metadata": {
        "id": "Y7XfKcR_ZliH"
      },
      "source": [
        "***Comments in Python***"
      ]
    },
    {
      "cell_type": "code",
      "metadata": {
        "colab": {
          "base_uri": "https://localhost:8080/"
        },
        "id": "nra5GbdqZpk0",
        "outputId": "4e3d3ead-81c1-4d6b-a6e9-f269e40b111a"
      },
      "source": [
        "# This is a Python Code\n",
        "print(\"Hello World!\")\n",
        "\n",
        "\"\"\"This is a Python Code\n",
        "and this is my first python file\"\"\"\n",
        "print(\"Hi\")"
      ],
      "execution_count": 9,
      "outputs": [
        {
          "output_type": "stream",
          "name": "stdout",
          "text": [
            "Hello World!\n",
            "Hi\n"
          ]
        }
      ]
    },
    {
      "cell_type": "markdown",
      "metadata": {
        "id": "sO8zDMamaO6G"
      },
      "source": [
        "***Variables in Python***"
      ]
    },
    {
      "cell_type": "code",
      "metadata": {
        "colab": {
          "base_uri": "https://localhost:8080/"
        },
        "id": "GfKvBlVwaUas",
        "outputId": "81d8a71c-dd10-4068-9f1f-ce2f39327f2b"
      },
      "source": [
        "age=20\n",
        "name=\"John\"\n",
        "pi=3.14\n",
        "my_last_name=\"Doe\"\n",
        "a,b,c=1,\"red\",2.25\n",
        "print('\\n',age,'\\n',name,'\\n',pi)\n",
        "print(my_last_name)\n",
        "print(a,b,c)"
      ],
      "execution_count": 20,
      "outputs": [
        {
          "output_type": "stream",
          "name": "stdout",
          "text": [
            "\n",
            " 20 \n",
            " John \n",
            " 3.14\n",
            "Doe\n",
            "1 red 2.25\n"
          ]
        }
      ]
    },
    {
      "cell_type": "markdown",
      "metadata": {
        "id": "2PQf47QxdF-F"
      },
      "source": [
        "Unpacking a collection of values / Unpacking a list\n"
      ]
    },
    {
      "cell_type": "code",
      "metadata": {
        "colab": {
          "base_uri": "https://localhost:8080/"
        },
        "id": "fYg9n1iPdcbL",
        "outputId": "83bfbf77-0031-421d-c290-1687ca24c016"
      },
      "source": [
        "colors=[\"Red\",\"Green\",\"Blue\"]\n",
        "r,g,b=colors\n",
        "print(colors)"
      ],
      "execution_count": 16,
      "outputs": [
        {
          "output_type": "stream",
          "name": "stdout",
          "text": [
            "['Red', 'Green', 'Blue']\n"
          ]
        }
      ]
    },
    {
      "cell_type": "markdown",
      "metadata": {
        "id": "suFz53gYeC5D"
      },
      "source": [
        "***Datatypes in Python***"
      ]
    },
    {
      "cell_type": "code",
      "metadata": {
        "colab": {
          "base_uri": "https://localhost:8080/"
        },
        "id": "1AgFG5vVeFVx",
        "outputId": "14d09818-9ef8-4d5f-89e4-6d951351ee01"
      },
      "source": [
        "age=20               #integer\n",
        "name=\"John\"          #string\n",
        "pi=3.14              #float\n",
        "is_online=True       #bool. can have values either True or False\n",
        "x=5j                 #complex\n",
        "colors=[\"Red\",\"Green\",\"Blue\"]    #list\n",
        "colors1=(\"Red\",\"Green\",\"Blue\")    #tuple\n",
        "a=range(6)       #range\n",
        "print(age,name,pi,is_online,x,colors,colors1,a)\n"
      ],
      "execution_count": null,
      "outputs": [
        {
          "output_type": "stream",
          "name": "stdout",
          "text": [
            "20 John 3.14 True 5j ['Red', 'Green', 'Blue'] ('Red', 'Green', 'Blue') range(0, 6)\n"
          ]
        }
      ]
    },
    {
      "cell_type": "markdown",
      "metadata": {
        "id": "UMUTz2kwfW3D"
      },
      "source": [
        "***Concatenation***"
      ]
    },
    {
      "cell_type": "code",
      "metadata": {
        "colab": {
          "base_uri": "https://localhost:8080/"
        },
        "id": "o-hrr8GKfHLI",
        "outputId": "d0f2e6dd-7386-4721-bb6d-db37350e2fb2"
      },
      "source": [
        "a=\"John\"\n",
        "\n",
        "print(\"Hello \"+a)"
      ],
      "execution_count": null,
      "outputs": [
        {
          "output_type": "stream",
          "name": "stdout",
          "text": [
            "Hello John\n"
          ]
        }
      ]
    },
    {
      "cell_type": "markdown",
      "metadata": {
        "id": "koXocALngEDJ"
      },
      "source": [
        "***Receiving input from the user***\n"
      ]
    },
    {
      "cell_type": "code",
      "metadata": {
        "colab": {
          "base_uri": "https://localhost:8080/"
        },
        "id": "xOXAAnPBgGZw",
        "outputId": "ca55e3ff-04b1-489d-e9a3-b93cbd17b5a2"
      },
      "source": [
        "name=input(\"Enter your name \")\n",
        "print(\"Hello \"+name)"
      ],
      "execution_count": null,
      "outputs": [
        {
          "output_type": "stream",
          "name": "stdout",
          "text": [
            "Enter your name abc\n",
            "Hello abc\n"
          ]
        }
      ]
    },
    {
      "cell_type": "markdown",
      "metadata": {
        "id": "ktReZkVwhCoA"
      },
      "source": [
        "***Type Conversion***\n",
        "\n",
        "Various type conversion functions are : int(), float(), str(), bool()"
      ]
    },
    {
      "cell_type": "code",
      "metadata": {
        "colab": {
          "base_uri": "https://localhost:8080/"
        },
        "id": "18Ynn2j-hFb5",
        "outputId": "75dcce8a-4680-439d-e6b1-491f65ca8ac4"
      },
      "source": [
        "birth_year=input(\"Enter your birth year to calculate your age : \")\n",
        "age=2021-int(birth_year)\n",
        "print(age)"
      ],
      "execution_count": null,
      "outputs": [
        {
          "output_type": "stream",
          "name": "stdout",
          "text": [
            "Enter your birth year to calculate your age : 1990\n",
            "31\n"
          ]
        }
      ]
    },
    {
      "cell_type": "markdown",
      "metadata": {
        "id": "DT_PqwRViqrv"
      },
      "source": [
        "type() function"
      ]
    },
    {
      "cell_type": "code",
      "metadata": {
        "colab": {
          "base_uri": "https://localhost:8080/"
        },
        "id": "Rq5cEU0ehYQp",
        "outputId": "17d9671b-af84-4cdb-a1ad-90f850e4e838"
      },
      "source": [
        "x=5\n",
        "y=2.65\n",
        "z=\"abc\"\n",
        "print(type(x))\n",
        "print(type(y))\n",
        "print(type(z))\n"
      ],
      "execution_count": null,
      "outputs": [
        {
          "output_type": "stream",
          "name": "stdout",
          "text": [
            "<class 'int'>\n",
            "<class 'float'>\n",
            "<class 'str'>\n"
          ]
        }
      ]
    },
    {
      "cell_type": "markdown",
      "metadata": {
        "id": "VeZ3Tvniioqf"
      },
      "source": [
        "Exercise : WAP in Python for addition of two nos wherein the nos are taken input from the user.\n",
        "Sample output :\n",
        "No 1 : 2\n",
        "No 2 : 5\n",
        "Sum = 7\n",
        "\n",
        "Case 1 : Both the numbers are integers\n",
        "Case 2 : Either no is an interger and the other no is float\n"
      ]
    },
    {
      "cell_type": "code",
      "metadata": {
        "id": "s4lQ5fbKjhyy",
        "colab": {
          "base_uri": "https://localhost:8080/"
        },
        "outputId": "4b4eb5f5-a5b6-4af7-dc3e-6d2fdbd052c8"
      },
      "source": [
        "no1=int(input(\"Enter number 1 : \"))\n",
        "no2=int(input(\"Enter number 2 : \"))\n",
        "sum=no1+no2\n",
        "print (\"Sum : \" + str(sum))"
      ],
      "execution_count": null,
      "outputs": [
        {
          "output_type": "stream",
          "name": "stdout",
          "text": [
            "Enter number 1 : 5\n",
            "Enter number 2 : 3\n",
            "Sum : 8\n"
          ]
        }
      ]
    },
    {
      "cell_type": "markdown",
      "source": [
        "***Operators in Python***"
      ],
      "metadata": {
        "id": "mLeG6Ek_dNT-"
      }
    },
    {
      "cell_type": "markdown",
      "source": [
        "Arithmetic Operators : + - * / % // **   \n",
        "Augmented Arithmetic operators : += -= *= /= %= //= **= &= |=\n",
        "Comparison Operators : == != > < >= <=\n",
        "Bitwise operators : & | ^ ~ << >>\n",
        "Logical Operators : and or not\n",
        "Membership operators : in    not in\n",
        "Identity operators : is     not is"
      ],
      "metadata": {
        "id": "SAdzQu2LdXAv"
      }
    },
    {
      "cell_type": "code",
      "source": [
        "x=[\"red\", \"green\"]\n",
        "print(\"red\" not in x)"
      ],
      "metadata": {
        "colab": {
          "base_uri": "https://localhost:8080/"
        },
        "id": "stWardMOefbH",
        "outputId": "38ca7faa-163a-4e08-e51b-f82f820fa94f"
      },
      "execution_count": null,
      "outputs": [
        {
          "output_type": "stream",
          "name": "stdout",
          "text": [
            "False\n"
          ]
        }
      ]
    },
    {
      "cell_type": "code",
      "source": [
        "x=[1,2,3]\n",
        "y=[1,2,3]\n",
        "z=x\n",
        "print(x is not z)\n",
        "print(x is not y)\n",
        "print(x!=y)"
      ],
      "metadata": {
        "colab": {
          "base_uri": "https://localhost:8080/"
        },
        "id": "hOauh_gzfHxf",
        "outputId": "1da68a40-db77-4dfe-be20-ed1b1080c3b2"
      },
      "execution_count": null,
      "outputs": [
        {
          "output_type": "stream",
          "name": "stdout",
          "text": [
            "False\n",
            "True\n",
            "False\n"
          ]
        }
      ]
    },
    {
      "cell_type": "markdown",
      "source": [
        "***Loops in Python***"
      ],
      "metadata": {
        "id": "X-IOeaLIf0sw"
      }
    },
    {
      "cell_type": "markdown",
      "source": [
        "If Loops"
      ],
      "metadata": {
        "id": "gbavblk8f4S8"
      }
    },
    {
      "cell_type": "code",
      "source": [
        "temp=35\n",
        "if temp>30:\n",
        "  print(\" It's a hot day\")\n",
        "elif temp>20:\n",
        "  print(\"It's a nice day\")\n",
        "elif temp>10:\n",
        "  print(\"It's pleasant\")\n",
        "else:\n",
        "  print(\"It's cold\")\n",
        "print(\"Bye\")"
      ],
      "metadata": {
        "colab": {
          "base_uri": "https://localhost:8080/"
        },
        "id": "njpDUmX0f6Ct",
        "outputId": "e57a1ee0-ec8e-4f17-c656-31d1e5ec742d"
      },
      "execution_count": null,
      "outputs": [
        {
          "output_type": "stream",
          "name": "stdout",
          "text": [
            " It's a hot day\n",
            "Bye\n"
          ]
        }
      ]
    },
    {
      "cell_type": "code",
      "source": [
        "wt=float(input(\"Enter weight : \"))\n",
        "unit=input(\"(K)gs or (L)bs : \")\n",
        "if unit==\"K\" or unit=='k':\n",
        " convert=wt/0.45\n",
        " print(\"Weight in Lbs : \"+ str(convert))\n",
        "else:\n",
        "  convert=wt*0.45\n",
        "  print(\"Weight in Kgs : \"+ str(convert))\n"
      ],
      "metadata": {
        "colab": {
          "base_uri": "https://localhost:8080/"
        },
        "id": "TN_TRJQrhTuN",
        "outputId": "043da786-9fc3-41e4-9471-0df8690f784a"
      },
      "execution_count": null,
      "outputs": [
        {
          "output_type": "stream",
          "name": "stdout",
          "text": [
            "Enter weight : 170\n",
            "(K)gs or (L)bs : l\n",
            "Weight in Kgs : 76.5\n"
          ]
        }
      ]
    },
    {
      "cell_type": "markdown",
      "source": [
        "While Loops"
      ],
      "metadata": {
        "id": "QmY9kRx6i4Td"
      }
    },
    {
      "cell_type": "code",
      "source": [
        "i=1\n",
        "while i<=5:\n",
        "  print(i)\n",
        "  i=i+1"
      ],
      "metadata": {
        "colab": {
          "base_uri": "https://localhost:8080/"
        },
        "id": "Huu4cvOzi8Ys",
        "outputId": "b9b8f7f9-af4d-4f83-9a89-8a5480a2c2e6"
      },
      "execution_count": null,
      "outputs": [
        {
          "output_type": "stream",
          "name": "stdout",
          "text": [
            "1\n",
            "2\n",
            "3\n",
            "4\n",
            "5\n"
          ]
        }
      ]
    },
    {
      "cell_type": "code",
      "source": [
        "i=1\n",
        "while i<=5:\n",
        "  print(i * '*')\n",
        "  i=i+1"
      ],
      "metadata": {
        "colab": {
          "base_uri": "https://localhost:8080/"
        },
        "id": "E13itu_bjMxE",
        "outputId": "a3e3e7b3-692c-4055-cbfd-8e5ddcd81f98"
      },
      "execution_count": null,
      "outputs": [
        {
          "output_type": "stream",
          "name": "stdout",
          "text": [
            "*\n",
            "**\n",
            "***\n",
            "****\n",
            "*****\n"
          ]
        }
      ]
    },
    {
      "cell_type": "markdown",
      "source": [
        "For Loops"
      ],
      "metadata": {
        "id": "QzJHlNAdjj8d"
      }
    },
    {
      "cell_type": "code",
      "source": [
        "nos = [1,2,3,4,5]\n",
        "for i in nos:\n",
        "  print(i)"
      ],
      "metadata": {
        "colab": {
          "base_uri": "https://localhost:8080/"
        },
        "id": "sTsSUs-VjlcV",
        "outputId": "2b2ed140-34c9-4f51-d0fd-8c5d554eabfb"
      },
      "execution_count": null,
      "outputs": [
        {
          "output_type": "stream",
          "name": "stdout",
          "text": [
            "1\n",
            "2\n",
            "3\n",
            "4\n",
            "5\n"
          ]
        }
      ]
    },
    {
      "cell_type": "code",
      "source": [
        "for i in \"Hello world\":\n",
        "  print(i)\n"
      ],
      "metadata": {
        "colab": {
          "base_uri": "https://localhost:8080/"
        },
        "id": "fs2Hip71j8vf",
        "outputId": "42c786c2-a3b1-4859-ae40-1ef95506ccaa"
      },
      "execution_count": null,
      "outputs": [
        {
          "output_type": "stream",
          "name": "stdout",
          "text": [
            "H\n",
            "e\n",
            "l\n",
            "l\n",
            "o\n",
            " \n",
            "w\n",
            "o\n",
            "r\n",
            "l\n",
            "d\n"
          ]
        }
      ]
    },
    {
      "cell_type": "code",
      "source": [
        "for i in \"Hello world\":\n",
        "  print(i)\n",
        "else:\n",
        "  print(\"Bye\")"
      ],
      "metadata": {
        "colab": {
          "base_uri": "https://localhost:8080/"
        },
        "id": "u2nxoHdekIBO",
        "outputId": "ea780563-3453-49c9-8aa8-54f9f1555aca"
      },
      "execution_count": null,
      "outputs": [
        {
          "output_type": "stream",
          "name": "stdout",
          "text": [
            "H\n",
            "e\n",
            "l\n",
            "l\n",
            "o\n",
            " \n",
            "w\n",
            "o\n",
            "r\n",
            "l\n",
            "d\n",
            "Bye\n"
          ]
        }
      ]
    },
    {
      "cell_type": "code",
      "source": [
        "nos = [1,2,3,4,5]\n",
        "for i in nos:\n",
        "  print(i)\n",
        "  if i==3:\n",
        "    break"
      ],
      "metadata": {
        "colab": {
          "base_uri": "https://localhost:8080/"
        },
        "id": "rCQacCEnkerv",
        "outputId": "2c211285-b670-4e44-b269-37983a259d3c"
      },
      "execution_count": null,
      "outputs": [
        {
          "output_type": "stream",
          "name": "stdout",
          "text": [
            "1\n",
            "2\n",
            "3\n"
          ]
        }
      ]
    },
    {
      "cell_type": "code",
      "source": [
        "nos = [1,2,3,4,5]\n",
        "for i in nos:\n",
        "   if i==3:\n",
        "    continue\n",
        "   print(i)"
      ],
      "metadata": {
        "colab": {
          "base_uri": "https://localhost:8080/"
        },
        "id": "XrRRrfoBkp4l",
        "outputId": "f629c981-bc14-4cae-c58e-fee68b31a5e2"
      },
      "execution_count": null,
      "outputs": [
        {
          "output_type": "stream",
          "name": "stdout",
          "text": [
            "1\n",
            "2\n",
            "4\n",
            "5\n"
          ]
        }
      ]
    },
    {
      "cell_type": "code",
      "source": [
        "fname=[\"John\", \"Mary\", \"Joe\"]\n",
        "lname=[\"Doe\", \"Jane\", \"Ray\"]\n",
        "for i in fname:\n",
        "  for j in lname:\n",
        "    print(i,j)"
      ],
      "metadata": {
        "colab": {
          "base_uri": "https://localhost:8080/"
        },
        "id": "8FS75wWPlHNA",
        "outputId": "95ca7459-5665-4ea3-d102-5bdc2a7fb8fd"
      },
      "execution_count": null,
      "outputs": [
        {
          "output_type": "stream",
          "name": "stdout",
          "text": [
            "John Doe\n",
            "John Jane\n",
            "John Ray\n",
            "Mary Doe\n",
            "Mary Jane\n",
            "Mary Ray\n",
            "Joe Doe\n",
            "Joe Jane\n",
            "Joe Ray\n"
          ]
        }
      ]
    },
    {
      "cell_type": "markdown",
      "source": [
        "***Strings in Python***"
      ],
      "metadata": {
        "id": "yG911GtgzN5K"
      }
    },
    {
      "cell_type": "code",
      "source": [
        "course=\"Intro to Python\"\n",
        "print(course)\n",
        "print(len(course))\n",
        "print(course[9])\n",
        "print(course[2:7])\n",
        "print(course[:3])\n",
        "print(course[5:])\n",
        "print(course[-5:-2])\n",
        "print(course.upper())\n",
        "print(course.lower())\n",
        "print(course.find(\"y\"))\n",
        "print(course.find(\"Y\"))\n",
        "print(course.find(\"to\"))\n",
        "print(course.split())\n",
        "print(course.index(\"Python\"))\n",
        "print(course.replace(\"Intro\",\"Introduction\"))\n",
        "print(course)\n",
        "print('Python' in course)\n",
        "print('Python' not in course)"
      ],
      "metadata": {
        "colab": {
          "base_uri": "https://localhost:8080/"
        },
        "id": "kp9rdExEzS6a",
        "outputId": "a60e9e8f-8610-462c-fd05-12e0f4793b4f"
      },
      "execution_count": null,
      "outputs": [
        {
          "output_type": "stream",
          "name": "stdout",
          "text": [
            "Intro to Python\n",
            "15\n",
            "P\n",
            "tro t\n",
            "Int\n",
            " to Python\n",
            "yth\n",
            "INTRO TO PYTHON\n",
            "intro to python\n",
            "10\n",
            "-1\n",
            "6\n",
            "['Intro', 'to', 'Python']\n",
            "9\n",
            "Introduction to Python\n",
            "Intro to Python\n",
            "True\n",
            "False\n"
          ]
        }
      ]
    },
    {
      "cell_type": "code",
      "source": [
        "course=\"   Intro to Python   \"\n",
        "print(course.strip())"
      ],
      "metadata": {
        "colab": {
          "base_uri": "https://localhost:8080/"
        },
        "id": "8YiZ5ar-zffh",
        "outputId": "132eccf6-d1b2-4bf2-edb7-b78eeea1a997"
      },
      "execution_count": null,
      "outputs": [
        {
          "output_type": "stream",
          "name": "stdout",
          "text": [
            "Intro to Python\n"
          ]
        }
      ]
    },
    {
      "cell_type": "markdown",
      "source": [
        "Format-Strings"
      ],
      "metadata": {
        "id": "nDDINav31b0c"
      }
    },
    {
      "cell_type": "code",
      "source": [
        "price=500\n",
        "prod=\"The price of the book is\" + price\n",
        "print(prod)"
      ],
      "metadata": {
        "colab": {
          "base_uri": "https://localhost:8080/",
          "height": 208
        },
        "id": "KJdMG4PZ1el0",
        "outputId": "3badc1f2-ee60-4438-f90b-31fb112b7542"
      },
      "execution_count": null,
      "outputs": [
        {
          "output_type": "error",
          "ename": "TypeError",
          "evalue": "ignored",
          "traceback": [
            "\u001b[0;31m---------------------------------------------------------------------------\u001b[0m",
            "\u001b[0;31mTypeError\u001b[0m                                 Traceback (most recent call last)",
            "\u001b[0;32m<ipython-input-25-5c0f67f122a3>\u001b[0m in \u001b[0;36m<module>\u001b[0;34m()\u001b[0m\n\u001b[1;32m      1\u001b[0m \u001b[0mprice\u001b[0m\u001b[0;34m=\u001b[0m\u001b[0;36m500\u001b[0m\u001b[0;34m\u001b[0m\u001b[0;34m\u001b[0m\u001b[0m\n\u001b[0;32m----> 2\u001b[0;31m \u001b[0mprod\u001b[0m\u001b[0;34m=\u001b[0m\u001b[0;34m\"The price of the book is\"\u001b[0m \u001b[0;34m+\u001b[0m \u001b[0mprice\u001b[0m\u001b[0;34m\u001b[0m\u001b[0;34m\u001b[0m\u001b[0m\n\u001b[0m\u001b[1;32m      3\u001b[0m \u001b[0mprint\u001b[0m\u001b[0;34m(\u001b[0m\u001b[0mprod\u001b[0m\u001b[0;34m)\u001b[0m\u001b[0;34m\u001b[0m\u001b[0;34m\u001b[0m\u001b[0m\n",
            "\u001b[0;31mTypeError\u001b[0m: can only concatenate str (not \"int\") to str"
          ]
        }
      ]
    },
    {
      "cell_type": "code",
      "source": [
        "price=500\n",
        "prod=\"The price of the book is {}\"\n",
        "print(prod.format(price))"
      ],
      "metadata": {
        "colab": {
          "base_uri": "https://localhost:8080/"
        },
        "id": "-YQeeGZ31oSb",
        "outputId": "66fa55cb-4769-4e1d-9106-b9b0e5645578"
      },
      "execution_count": null,
      "outputs": [
        {
          "output_type": "stream",
          "name": "stdout",
          "text": [
            "The price of the book is 500\n"
          ]
        }
      ]
    },
    {
      "cell_type": "code",
      "source": [
        "price=500\n",
        "quantity=20\n",
        "total=10000\n",
        "prod=\"The price of the book is {}. Hence for {} copies the total price comes to {}.\"\n",
        "print(prod.format(price,quantity,total))"
      ],
      "metadata": {
        "colab": {
          "base_uri": "https://localhost:8080/"
        },
        "id": "cy2BXiVN1xjb",
        "outputId": "444c9928-ac67-476b-fa67-8a87669c5fd0"
      },
      "execution_count": null,
      "outputs": [
        {
          "output_type": "stream",
          "name": "stdout",
          "text": [
            "The price of the book is 500. Hence for 20 copies the total price comes to 10000.\n"
          ]
        }
      ]
    },
    {
      "cell_type": "code",
      "source": [
        "price=500\n",
        "quantity=20\n",
        "total=10000\n",
        "prod=\"The total price for {1} books will be {2} as per the cost of {0} rupees per book.\"\n",
        "print(prod.format(price,quantity,total))"
      ],
      "metadata": {
        "colab": {
          "base_uri": "https://localhost:8080/"
        },
        "id": "Nabgf6vj2AB7",
        "outputId": "db44a246-f15c-4897-9980-6e2a7f8cbf17"
      },
      "execution_count": null,
      "outputs": [
        {
          "output_type": "stream",
          "name": "stdout",
          "text": [
            "The total price for 20 books will be 10000 as per the cost of 500 rupees per book\n"
          ]
        }
      ]
    },
    {
      "cell_type": "markdown",
      "source": [
        "\n",
        "***Lists in Python***"
      ],
      "metadata": {
        "id": "IwsIghfdThUR"
      }
    },
    {
      "cell_type": "code",
      "source": [
        "colors=[\"Red\",\"Green\",\"Blue\",\"Yellow\",\"Orange\"]\n",
        "print(colors)\n",
        "print(len(colors))\n",
        "print(colors[0])\n",
        "print(colors[-2])\n",
        "print(colors[0:3])\n",
        "print(colors[3:])\n",
        "print(colors[:3])\n",
        "colors[0]=\"Pink\"\n",
        "print(colors)\n",
        "colors[1:3]=[\"Black\",\"White\"]\n",
        "print(colors)\n",
        "colors[1:2]=[\"Grey\",\"Purple\"]\n",
        "print(colors)\n",
        "colors[1:3]=[\"Blue\"]\n",
        "print(colors)\n",
        "\n"
      ],
      "metadata": {
        "colab": {
          "base_uri": "https://localhost:8080/"
        },
        "id": "T8wLWC_JTnsQ",
        "outputId": "04ab4697-95b3-4f9d-a5d5-67142b3f99db"
      },
      "execution_count": null,
      "outputs": [
        {
          "output_type": "stream",
          "name": "stdout",
          "text": [
            "['Red', 'Green', 'Blue', 'Yellow', 'Orange']\n",
            "5\n",
            "Red\n",
            "Yellow\n",
            "['Red', 'Green', 'Blue']\n",
            "['Yellow', 'Orange']\n",
            "['Red', 'Green', 'Blue']\n",
            "['Pink', 'Green', 'Blue', 'Yellow', 'Orange']\n",
            "['Pink', 'Black', 'White', 'Yellow', 'Orange']\n",
            "['Pink', 'Grey', 'Purple', 'White', 'Yellow', 'Orange']\n",
            "['Pink', 'Blue', 'White', 'Yellow', 'Orange']\n"
          ]
        }
      ]
    },
    {
      "cell_type": "markdown",
      "source": [
        "List Constructor"
      ],
      "metadata": {
        "id": "XobTAwavXNu2"
      }
    },
    {
      "cell_type": "code",
      "source": [
        "nos=list((1,2,3,4,5))\n",
        "print(nos)\n",
        "nos.insert(0,-1)\n",
        "print(nos)\n",
        "nos.append(6)\n",
        "print(nos)\n",
        "nos.remove(3)\n",
        "print(nos)\n",
        "nos.pop(3)\n",
        "print(nos)\n",
        "print(1 in nos)\n",
        "print(10 in nos)\n",
        "nos.clear()\n",
        "print(nos)\n",
        "del nos\n",
        "\n",
        "even=[2,4,6,8]\n",
        "odd=[1,3,5,7,9]\n",
        "even.extend(odd)\n",
        "print(even)\n"
      ],
      "metadata": {
        "colab": {
          "base_uri": "https://localhost:8080/"
        },
        "id": "YjtT_VLrT8z8",
        "outputId": "565b6bc4-2bfb-4776-9f75-626be1ecf998"
      },
      "execution_count": null,
      "outputs": [
        {
          "output_type": "stream",
          "name": "stdout",
          "text": [
            "[1, 2, 3, 4, 5]\n",
            "[-1, 1, 2, 3, 4, 5]\n",
            "[-1, 1, 2, 3, 4, 5, 6]\n",
            "[-1, 1, 2, 4, 5, 6]\n",
            "[-1, 1, 2, 5, 6]\n",
            "True\n",
            "False\n",
            "[]\n",
            "[2, 4, 6, 8, 1, 3, 5, 7, 9]\n"
          ]
        }
      ]
    },
    {
      "cell_type": "markdown",
      "source": [
        "Looping through the Lists"
      ],
      "metadata": {
        "id": "eHAYij2vlgec"
      }
    },
    {
      "cell_type": "code",
      "source": [
        "nos=[1,2,3,4,5]\n",
        "for x in nos:\n",
        " print(x)"
      ],
      "metadata": {
        "colab": {
          "base_uri": "https://localhost:8080/"
        },
        "id": "jW7TGqGHlNsg",
        "outputId": "8ba76be7-0083-4bd7-b0e1-3681b7c1e2db"
      },
      "execution_count": null,
      "outputs": [
        {
          "output_type": "stream",
          "name": "stdout",
          "text": [
            "1\n",
            "2\n",
            "3\n",
            "4\n",
            "5\n"
          ]
        }
      ]
    },
    {
      "cell_type": "markdown",
      "source": [
        "*Looping through index numbers*"
      ],
      "metadata": {
        "id": "vC65Gtlcl0n6"
      }
    },
    {
      "cell_type": "code",
      "source": [
        "nos=[1,2,3,4,5]\n",
        "for x in nos(len(nos)-1):\n",
        " print(nos[x])"
      ],
      "metadata": {
        "colab": {
          "base_uri": "https://localhost:8080/",
          "height": 200
        },
        "id": "_2aahAsUl-_7",
        "outputId": "546d2168-ee7e-4f22-f8df-341ac9cef96a"
      },
      "execution_count": null,
      "outputs": [
        {
          "output_type": "error",
          "ename": "TypeError",
          "evalue": "ignored",
          "traceback": [
            "\u001b[0;31m---------------------------------------------------------------------------\u001b[0m",
            "\u001b[0;31mTypeError\u001b[0m                                 Traceback (most recent call last)",
            "\u001b[0;32m<ipython-input-12-de218b5cf35b>\u001b[0m in \u001b[0;36m<module>\u001b[0;34m()\u001b[0m\n\u001b[1;32m      1\u001b[0m \u001b[0mnos\u001b[0m\u001b[0;34m=\u001b[0m\u001b[0;34m[\u001b[0m\u001b[0;36m1\u001b[0m\u001b[0;34m,\u001b[0m\u001b[0;36m2\u001b[0m\u001b[0;34m,\u001b[0m\u001b[0;36m3\u001b[0m\u001b[0;34m,\u001b[0m\u001b[0;36m4\u001b[0m\u001b[0;34m,\u001b[0m\u001b[0;36m5\u001b[0m\u001b[0;34m]\u001b[0m\u001b[0;34m\u001b[0m\u001b[0;34m\u001b[0m\u001b[0m\n\u001b[0;32m----> 2\u001b[0;31m \u001b[0;32mfor\u001b[0m \u001b[0mx\u001b[0m \u001b[0;32min\u001b[0m \u001b[0mnos\u001b[0m\u001b[0;34m(\u001b[0m\u001b[0mlen\u001b[0m\u001b[0;34m(\u001b[0m\u001b[0mnos\u001b[0m\u001b[0;34m)\u001b[0m\u001b[0;34m-\u001b[0m\u001b[0;36m1\u001b[0m\u001b[0;34m)\u001b[0m\u001b[0;34m:\u001b[0m\u001b[0;34m\u001b[0m\u001b[0;34m\u001b[0m\u001b[0m\n\u001b[0m\u001b[1;32m      3\u001b[0m  \u001b[0mprint\u001b[0m\u001b[0;34m(\u001b[0m\u001b[0mnos\u001b[0m\u001b[0;34m[\u001b[0m\u001b[0mx\u001b[0m\u001b[0;34m]\u001b[0m\u001b[0;34m)\u001b[0m\u001b[0;34m\u001b[0m\u001b[0;34m\u001b[0m\u001b[0m\n",
            "\u001b[0;31mTypeError\u001b[0m: 'list' object is not callable"
          ]
        }
      ]
    },
    {
      "cell_type": "markdown",
      "source": [
        "*List Comprehension*\n",
        "\n",
        "Syntax : newlist=[expression for item in oldlist if condition==True]"
      ],
      "metadata": {
        "id": "qUrlTVJimrfV"
      }
    },
    {
      "cell_type": "code",
      "source": [
        "nos=[1,2,3,4,5]\n",
        "for x in nos:\n",
        " print(x)\n",
        "\n",
        " # List Comprehension\n",
        "[print(x) for x in nos]\n"
      ],
      "metadata": {
        "colab": {
          "base_uri": "https://localhost:8080/"
        },
        "id": "NiwXDMtOmGmY",
        "outputId": "bdc477c3-fe6a-4f90-b613-7da30f96fca6"
      },
      "execution_count": null,
      "outputs": [
        {
          "output_type": "stream",
          "name": "stdout",
          "text": [
            "1\n",
            "2\n",
            "3\n",
            "4\n",
            "5\n",
            "1\n",
            "2\n",
            "3\n",
            "4\n",
            "5\n"
          ]
        },
        {
          "output_type": "execute_result",
          "data": {
            "text/plain": [
              "[None, None, None, None, None]"
            ]
          },
          "metadata": {},
          "execution_count": 16
        }
      ]
    },
    {
      "cell_type": "code",
      "source": [
        "colors=[\"Red\",\"Green\",\"Blue\",\"Yellow\",\"Orange\"]\n",
        "colors1=[]\n",
        "for x in colors:\n",
        "  if \"a\" in x:\n",
        "    colors1.append(x)\n",
        "print(colors1)\n",
        "\n",
        "colors=[\"Red\",\"Green\",\"Blue\",\"Yellow\",\"Orange\"]\n",
        "[print(x) for x in colors if \"a\" in x]\n",
        "\n",
        "[print(x) for x in colors if x!=\"Yellow\"]"
      ],
      "metadata": {
        "colab": {
          "base_uri": "https://localhost:8080/"
        },
        "id": "yKU9vdBym2JD",
        "outputId": "8a057e37-9cbf-4396-feee-add2e5181f52"
      },
      "execution_count": null,
      "outputs": [
        {
          "output_type": "stream",
          "name": "stdout",
          "text": [
            "['Orange']\n",
            "Orange\n",
            "Red\n",
            "Green\n",
            "Blue\n",
            "Orange\n"
          ]
        },
        {
          "output_type": "execute_result",
          "data": {
            "text/plain": [
              "[None, None, None, None]"
            ]
          },
          "metadata": {},
          "execution_count": 20
        }
      ]
    },
    {
      "cell_type": "markdown",
      "source": [
        "Sorting the Lists"
      ],
      "metadata": {
        "id": "B8Ek_bapozdH"
      }
    },
    {
      "cell_type": "code",
      "source": [
        "colors=[\"Red\",\"Green\",\"Blue\",\"Yellow\",\"Orange\"]\n",
        "nos=[1,2,3,4,5]\n",
        "\n",
        "colors.sort()\n",
        "print(colors)\n",
        "nos.sort()\n",
        "print(nos)\n",
        "\n",
        "colors.sort(reverse=True)\n",
        "print(colors)\n",
        "nos.reverse()\n",
        "print(nos)"
      ],
      "metadata": {
        "colab": {
          "base_uri": "https://localhost:8080/"
        },
        "id": "Yx_L-TvAm-_r",
        "outputId": "9b540926-4658-4399-eb36-9c42f8fc12ab"
      },
      "execution_count": null,
      "outputs": [
        {
          "output_type": "stream",
          "name": "stdout",
          "text": [
            "['Blue', 'Green', 'Orange', 'Red', 'Yellow']\n",
            "[1, 2, 3, 4, 5]\n",
            "['Yellow', 'Red', 'Orange', 'Green', 'Blue']\n",
            "[5, 4, 3, 2, 1]\n"
          ]
        }
      ]
    },
    {
      "cell_type": "markdown",
      "source": [
        "Copying the Lists"
      ],
      "metadata": {
        "id": "KK9T-g_wpm5P"
      }
    },
    {
      "cell_type": "code",
      "source": [
        "nos=[1,2,3,4,5]\n",
        "num=nos.copy()\n",
        "print(num)\n",
        "\n",
        "num1=list(nos)\n",
        "print(num1)"
      ],
      "metadata": {
        "colab": {
          "base_uri": "https://localhost:8080/"
        },
        "id": "stFEgwL-pDrM",
        "outputId": "607dd30b-0799-4f77-edbd-a83bcba8ee1c"
      },
      "execution_count": null,
      "outputs": [
        {
          "output_type": "stream",
          "name": "stdout",
          "text": [
            "[1, 2, 3, 4, 5]\n",
            "[1, 2, 3, 4, 5]\n"
          ]
        }
      ]
    },
    {
      "cell_type": "markdown",
      "source": [
        "Joining the Lists"
      ],
      "metadata": {
        "id": "QHu1O5L7qA3f"
      }
    },
    {
      "cell_type": "code",
      "source": [
        "# using extend method\n",
        "even=[2,4,6,8]\n",
        "odd=[1,3,5,7,9]\n",
        "even.extend(odd)\n",
        "print(even)\n",
        "\n",
        "# using + operator\n",
        "even=[2,4,6,8]\n",
        "odd=[1,3,5,7,9]\n",
        "nos=even + odd\n",
        "print(nos)\n",
        "\n",
        "# appending one list to another\n",
        "ven=[2,4,6,8]\n",
        "odd=[1,3,5,7,9]\n",
        "for x in odd:\n",
        "  even.append(x)\n",
        "print(even)"
      ],
      "metadata": {
        "colab": {
          "base_uri": "https://localhost:8080/"
        },
        "id": "_B8_OZnwqD9d",
        "outputId": "fc64fb4b-987d-455e-c718-7f7eef32d28f"
      },
      "execution_count": null,
      "outputs": [
        {
          "output_type": "stream",
          "name": "stdout",
          "text": [
            "[2, 4, 6, 8, 1, 3, 5, 7, 9]\n",
            "[2, 4, 6, 8, 1, 3, 5, 7, 9]\n",
            "[2, 4, 6, 8, 1, 3, 5, 7, 9]\n"
          ]
        }
      ]
    },
    {
      "cell_type": "markdown",
      "source": [
        "***Tuples in Python***"
      ],
      "metadata": {
        "id": "nX0wkJNRahJC"
      }
    },
    {
      "cell_type": "code",
      "source": [
        "nos=(1,2,3,3)\n",
        "print(nos)\n",
        "nos=tuple((1,2,3,4,5))    #using tuple constructor\n",
        "print(nos)\n",
        "print(nos.count(3))\n",
        "print(nos.index(3))\n",
        "print(len(nos))\n",
        "print(\"\\n\")\n",
        "\n",
        "#tuple elements can be accessed using index numbers\n",
        "\n",
        "print(nos[1])\n",
        "print(nos[-2])\n",
        "print(nos[2:4])\n",
        "print(nos[:3])\n",
        "print(nos[3:])\n",
        "print(nos[-4:-1])\n",
        "print(3 in nos)\n",
        "print(3 not in nos)\n"
      ],
      "metadata": {
        "colab": {
          "base_uri": "https://localhost:8080/"
        },
        "id": "pJnsDVOAaruV",
        "outputId": "c27120ca-66d5-465b-d1f0-203fa569c56a"
      },
      "execution_count": null,
      "outputs": [
        {
          "output_type": "stream",
          "name": "stdout",
          "text": [
            "(1, 2, 3, 3)\n",
            "(1, 2, 3, 4, 5)\n",
            "1\n",
            "2\n",
            "5\n",
            "\n",
            "\n",
            "2\n",
            "4\n",
            "(3, 4)\n",
            "(1, 2, 3)\n",
            "(4, 5)\n",
            "(2, 3, 4)\n",
            "True\n",
            "False\n"
          ]
        }
      ]
    },
    {
      "cell_type": "markdown",
      "source": [
        "Updating Tuples"
      ],
      "metadata": {
        "id": "kSQqr143cv-1"
      }
    },
    {
      "cell_type": "code",
      "source": [
        "colors=(\"Red\",\"Green\",\"Blue\")\n",
        "colors[1]=\"Yellow\"\n",
        "print(colors)"
      ],
      "metadata": {
        "colab": {
          "base_uri": "https://localhost:8080/",
          "height": 200
        },
        "id": "6wSNtfjfc1PL",
        "outputId": "ff1affc8-8867-4633-a5fd-d334dfdf2630"
      },
      "execution_count": null,
      "outputs": [
        {
          "output_type": "error",
          "ename": "TypeError",
          "evalue": "ignored",
          "traceback": [
            "\u001b[0;31m---------------------------------------------------------------------------\u001b[0m",
            "\u001b[0;31mTypeError\u001b[0m                                 Traceback (most recent call last)",
            "\u001b[0;32m<ipython-input-10-0d515a3161e3>\u001b[0m in \u001b[0;36m<module>\u001b[0;34m()\u001b[0m\n\u001b[1;32m      1\u001b[0m \u001b[0mcolors\u001b[0m\u001b[0;34m=\u001b[0m\u001b[0;34m(\u001b[0m\u001b[0;34m\"Red\"\u001b[0m\u001b[0;34m,\u001b[0m\u001b[0;34m\"Green\"\u001b[0m\u001b[0;34m,\u001b[0m\u001b[0;34m\"Blue\"\u001b[0m\u001b[0;34m)\u001b[0m\u001b[0;34m\u001b[0m\u001b[0;34m\u001b[0m\u001b[0m\n\u001b[0;32m----> 2\u001b[0;31m \u001b[0mcolors\u001b[0m\u001b[0;34m[\u001b[0m\u001b[0;36m1\u001b[0m\u001b[0;34m]\u001b[0m\u001b[0;34m=\u001b[0m\u001b[0;34m\"Yellow\"\u001b[0m\u001b[0;34m\u001b[0m\u001b[0;34m\u001b[0m\u001b[0m\n\u001b[0m\u001b[1;32m      3\u001b[0m \u001b[0mprint\u001b[0m\u001b[0;34m(\u001b[0m\u001b[0mcolors\u001b[0m\u001b[0;34m)\u001b[0m\u001b[0;34m\u001b[0m\u001b[0;34m\u001b[0m\u001b[0m\n",
            "\u001b[0;31mTypeError\u001b[0m: 'tuple' object does not support item assignment"
          ]
        }
      ]
    },
    {
      "cell_type": "code",
      "source": [
        "# Convert tuple to list, update it and convert list back to tuple\n",
        "\n",
        "colors=(\"Red\",\"Green\",\"Blue\")\n",
        "print(colors)\n",
        "colorlist=list(colors)\n",
        "colorlist[1]=\"Yellow\"\n",
        "colors=tuple(colorlist)\n",
        "print(colors)\n"
      ],
      "metadata": {
        "colab": {
          "base_uri": "https://localhost:8080/"
        },
        "id": "j60r70UjdE7q",
        "outputId": "0b9dd424-b414-4c69-9c51-d5e49c3474ef"
      },
      "execution_count": null,
      "outputs": [
        {
          "output_type": "stream",
          "name": "stdout",
          "text": [
            "('Red', 'Green', 'Blue')\n",
            "('Red', 'Yellow', 'Blue')\n"
          ]
        }
      ]
    },
    {
      "cell_type": "markdown",
      "source": [
        "Adding Elements to Tuple"
      ],
      "metadata": {
        "id": "Sdg03q_1doep"
      }
    },
    {
      "cell_type": "code",
      "source": [
        "# Method 1 : Convert tuple to a list\n",
        "\n",
        "colors=(\"Red\",\"Green\",\"Blue\")\n",
        "print(colors)\n",
        "colorlist=list(colors)\n",
        "colorlist.append(\"White\")\n",
        "colors=tuple(colorlist)\n",
        "print(colors)\n",
        "print(\"\\n\")\n",
        "\n",
        "# Method 2 : Add tuple to a tuple\n",
        "\n",
        "colors=(\"Red\",\"Green\",\"Blue\")\n",
        "print(colors)\n",
        "color1=(\"White\",)\n",
        "colors+=color1\n",
        "print(colors)"
      ],
      "metadata": {
        "colab": {
          "base_uri": "https://localhost:8080/"
        },
        "id": "WTcbW4i6dYCV",
        "outputId": "caa14c0a-060f-4381-ef21-2d85ab03374d"
      },
      "execution_count": null,
      "outputs": [
        {
          "output_type": "stream",
          "name": "stdout",
          "text": [
            "('Red', 'Green', 'Blue')\n",
            "('Red', 'Green', 'Blue', 'White')\n",
            "\n",
            "\n",
            "('Red', 'Green', 'Blue')\n",
            "('Red', 'Green', 'Blue', 'White')\n"
          ]
        }
      ]
    },
    {
      "cell_type": "markdown",
      "source": [
        "Removing Elements from a tuple"
      ],
      "metadata": {
        "id": "5z8Pn2LsebmM"
      }
    },
    {
      "cell_type": "code",
      "source": [
        "# Convert tuple to list, delete the element and convert list back to tuple\n",
        "\n",
        "colors=(\"Red\",\"Green\",\"Blue\")\n",
        "print(colors)\n",
        "colorlist=list(colors)\n",
        "colorlist.remove(\"Green\")\n",
        "colors=tuple(colorlist)\n",
        "print(colors)\n"
      ],
      "metadata": {
        "colab": {
          "base_uri": "https://localhost:8080/"
        },
        "id": "_i_Bbon2eeNz",
        "outputId": "b437b4f9-676e-4b98-e507-2cea113dff71"
      },
      "execution_count": null,
      "outputs": [
        {
          "output_type": "stream",
          "name": "stdout",
          "text": [
            "('Red', 'Green', 'Blue')\n",
            "('Red', 'Blue')\n"
          ]
        }
      ]
    },
    {
      "cell_type": "markdown",
      "source": [
        "Deleting a Tuple"
      ],
      "metadata": {
        "id": "S95f7mTXe6YS"
      }
    },
    {
      "cell_type": "code",
      "source": [
        "colors=(\"Red\",\"Green\",\"Blue\")\n",
        "del colors\n",
        "print(colors)"
      ],
      "metadata": {
        "colab": {
          "base_uri": "https://localhost:8080/",
          "height": 200
        },
        "id": "NrY-_hJEe8kh",
        "outputId": "62271ce1-1f8e-4501-f606-d481c85fb53c"
      },
      "execution_count": null,
      "outputs": [
        {
          "output_type": "error",
          "ename": "NameError",
          "evalue": "ignored",
          "traceback": [
            "\u001b[0;31m---------------------------------------------------------------------------\u001b[0m",
            "\u001b[0;31mNameError\u001b[0m                                 Traceback (most recent call last)",
            "\u001b[0;32m<ipython-input-20-f71be91826d5>\u001b[0m in \u001b[0;36m<module>\u001b[0;34m()\u001b[0m\n\u001b[1;32m      1\u001b[0m \u001b[0mcolors\u001b[0m\u001b[0;34m=\u001b[0m\u001b[0;34m(\u001b[0m\u001b[0;34m\"Red\"\u001b[0m\u001b[0;34m,\u001b[0m\u001b[0;34m\"Green\"\u001b[0m\u001b[0;34m,\u001b[0m\u001b[0;34m\"Blue\"\u001b[0m\u001b[0;34m)\u001b[0m\u001b[0;34m\u001b[0m\u001b[0;34m\u001b[0m\u001b[0m\n\u001b[1;32m      2\u001b[0m \u001b[0;32mdel\u001b[0m \u001b[0mcolors\u001b[0m\u001b[0;34m\u001b[0m\u001b[0;34m\u001b[0m\u001b[0m\n\u001b[0;32m----> 3\u001b[0;31m \u001b[0mprint\u001b[0m\u001b[0;34m(\u001b[0m\u001b[0mcolors\u001b[0m\u001b[0;34m)\u001b[0m\u001b[0;34m\u001b[0m\u001b[0;34m\u001b[0m\u001b[0m\n\u001b[0m",
            "\u001b[0;31mNameError\u001b[0m: name 'colors' is not defined"
          ]
        }
      ]
    },
    {
      "cell_type": "markdown",
      "source": [
        "Packing and Unpacking a Tuple"
      ],
      "metadata": {
        "id": "3tHeBRnUfBu5"
      }
    },
    {
      "cell_type": "code",
      "source": [
        "nos=(1,2,3,4,5)     # creating a tuple is known as Packing a tuple\n",
        "(n1,n2,n3,n4,n5)=nos\n",
        "print(n1)\n",
        "print(n2)\n",
        "print(n3)\n",
        "print(n4)\n",
        "print(n5)"
      ],
      "metadata": {
        "colab": {
          "base_uri": "https://localhost:8080/"
        },
        "id": "2_IuEdJKfEJy",
        "outputId": "a04391ef-d472-4922-9aa4-1b874e9e9477"
      },
      "execution_count": null,
      "outputs": [
        {
          "output_type": "stream",
          "name": "stdout",
          "text": [
            "1\n",
            "2\n",
            "3\n",
            "4\n",
            "5\n"
          ]
        }
      ]
    },
    {
      "cell_type": "code",
      "source": [
        "nos=(1,2,3,4,5)\n",
        "(n1,n2,*n3)=nos\n",
        "print(n1)\n",
        "print(n2)\n",
        "print(n3)"
      ],
      "metadata": {
        "colab": {
          "base_uri": "https://localhost:8080/"
        },
        "id": "qYsA4cS9fi8C",
        "outputId": "252bdab9-3847-4b7f-8ced-6774160e616c"
      },
      "execution_count": null,
      "outputs": [
        {
          "output_type": "stream",
          "name": "stdout",
          "text": [
            "1\n",
            "2\n",
            "[3, 4, 5]\n"
          ]
        }
      ]
    },
    {
      "cell_type": "code",
      "source": [
        "nos=(1,2,3,4,5)\n",
        "(n1,*n2,n3)=nos\n",
        "print(n1)\n",
        "print(n2)\n",
        "print(n3)"
      ],
      "metadata": {
        "colab": {
          "base_uri": "https://localhost:8080/"
        },
        "id": "Ug9bUqqkfjJR",
        "outputId": "61c353e1-d86a-4595-f3eb-b830072cfcf2"
      },
      "execution_count": null,
      "outputs": [
        {
          "output_type": "stream",
          "name": "stdout",
          "text": [
            "1\n",
            "[2, 3, 4]\n",
            "5\n"
          ]
        }
      ]
    },
    {
      "cell_type": "markdown",
      "source": [
        "Looping through Tuples"
      ],
      "metadata": {
        "id": "XqmYWaIatWaP"
      }
    },
    {
      "cell_type": "code",
      "source": [
        "#using for loop\n",
        "\n",
        "nos=(1,2,3,4,5)\n",
        "for i in nos:\n",
        "  print(i)\n",
        "print(\"\\n\")\n",
        "\n",
        "# using while loop\n",
        "\n",
        "nos=(1,2,3,4,5)\n",
        "i=0\n",
        "while i<len(nos):\n",
        "  print(nos[i])\n",
        "  i=i+1\n"
      ],
      "metadata": {
        "colab": {
          "base_uri": "https://localhost:8080/"
        },
        "id": "a8tTrkTMtZLu",
        "outputId": "a48a96de-bad1-4b4a-e5b9-a63d3807aeec"
      },
      "execution_count": null,
      "outputs": [
        {
          "output_type": "stream",
          "name": "stdout",
          "text": [
            "1\n",
            "2\n",
            "3\n",
            "4\n",
            "5\n",
            "\n",
            "\n",
            "1\n",
            "2\n",
            "3\n",
            "4\n",
            "5\n"
          ]
        }
      ]
    },
    {
      "cell_type": "markdown",
      "source": [
        "***Sets in Python***"
      ],
      "metadata": {
        "id": "cu7LR2Pst35d"
      }
    },
    {
      "cell_type": "code",
      "source": [
        "colors={\"Red\",\"Green\",\"Blue\",\"Red\"}\n",
        "print(colors)\n"
      ],
      "metadata": {
        "colab": {
          "base_uri": "https://localhost:8080/"
        },
        "id": "nrPIf1cat7ER",
        "outputId": "b30dbb96-c501-4627-94ff-c3b1561e0441"
      },
      "execution_count": null,
      "outputs": [
        {
          "output_type": "stream",
          "name": "stdout",
          "text": [
            "{'Green', 'Red', 'Blue'}\n"
          ]
        }
      ]
    },
    {
      "cell_type": "code",
      "source": [
        "#using set() constructor\n",
        "\n",
        "nos=set((1,2,3,4,5))\n",
        "print(nos)"
      ],
      "metadata": {
        "colab": {
          "base_uri": "https://localhost:8080/"
        },
        "id": "L-QhXHYOuyXZ",
        "outputId": "81bdb343-b91f-4713-e6ae-7201487f3f47"
      },
      "execution_count": null,
      "outputs": [
        {
          "output_type": "stream",
          "name": "stdout",
          "text": [
            "{1, 2, 3, 4, 5}\n"
          ]
        }
      ]
    },
    {
      "cell_type": "markdown",
      "source": [
        "Accessing Set Elements"
      ],
      "metadata": {
        "id": "oDcGFoaxvkFv"
      }
    },
    {
      "cell_type": "code",
      "source": [
        "nos={1,2,3,4,5}\n",
        "for i in nos:\n",
        " print(i)\n",
        "print(3 in nos)"
      ],
      "metadata": {
        "colab": {
          "base_uri": "https://localhost:8080/"
        },
        "id": "be4LRDjhvbVT",
        "outputId": "d56ae685-5b46-4ab3-c1bf-2426024f5016"
      },
      "execution_count": null,
      "outputs": [
        {
          "output_type": "stream",
          "name": "stdout",
          "text": [
            "1\n",
            "2\n",
            "3\n",
            "4\n",
            "5\n",
            "True\n"
          ]
        }
      ]
    },
    {
      "cell_type": "markdown",
      "source": [
        "Adding Elements to a Set"
      ],
      "metadata": {
        "id": "SV-N8_AowFYe"
      }
    },
    {
      "cell_type": "code",
      "source": [
        "# method 1 : using add() method\n",
        "colors={\"Red\",\"Green\",\"Blue\"}\n",
        "colors.add(\"Yellow\")\n",
        "print(colors)\n",
        "\n",
        "# Method 2 : using update() method\n",
        "colors={\"Red\",\"Green\",\"Blue\"}\n",
        "colors1=(\"Yellow\",)\n",
        "colors.update(colors1)\n",
        "print(colors)\n"
      ],
      "metadata": {
        "colab": {
          "base_uri": "https://localhost:8080/"
        },
        "id": "lFl1juJevzau",
        "outputId": "d62bb417-7279-4a4a-be0c-6f9835dbda00"
      },
      "execution_count": null,
      "outputs": [
        {
          "output_type": "stream",
          "name": "stdout",
          "text": [
            "{'Yellow', 'Green', 'Red', 'Blue'}\n",
            "{'Yellow', 'Green', 'Red', 'Blue'}\n"
          ]
        }
      ]
    },
    {
      "cell_type": "markdown",
      "source": [
        "Removing Elements from a Set"
      ],
      "metadata": {
        "id": "MtXTOYyjxcRu"
      }
    },
    {
      "cell_type": "code",
      "source": [
        "# remove() method\n",
        "\n",
        "nos={1,2,3,4,5}\n",
        "nos.remove(3)\n",
        "print(nos)\n",
        "\n",
        "# discard() method\n",
        "\n",
        "nos={1,2,3,4,5}\n",
        "nos.discard(3)\n",
        "print(nos)\n",
        "\n",
        "# pop() method\n",
        "\n",
        "nos={1,2,3,4,5}\n",
        "i=nos.pop()\n",
        "print(i)\n",
        "print(nos)\n",
        "\n",
        "# clear() method\n",
        "\n",
        "nos={1,2,3,4,5}\n",
        "nos.clear()\n",
        "print(nos)\n",
        "\n",
        "# del\n",
        "\n",
        "nos={1,2,3,4,5}\n",
        "del nos\n",
        "print(nos)\n",
        "\n"
      ],
      "metadata": {
        "colab": {
          "base_uri": "https://localhost:8080/",
          "height": 304
        },
        "id": "ZawofQ42wWb6",
        "outputId": "9d98acfc-ca0c-497a-89b6-2024b2350529"
      },
      "execution_count": null,
      "outputs": [
        {
          "output_type": "stream",
          "name": "stdout",
          "text": [
            "{1, 2, 4, 5}\n",
            "{1, 2, 4, 5}\n",
            "1\n",
            "{2, 3, 4, 5}\n",
            "set()\n"
          ]
        },
        {
          "output_type": "error",
          "ename": "NameError",
          "evalue": "ignored",
          "traceback": [
            "\u001b[0;31m---------------------------------------------------------------------------\u001b[0m",
            "\u001b[0;31mNameError\u001b[0m                                 Traceback (most recent call last)",
            "\u001b[0;32m<ipython-input-31-0928c56f5863>\u001b[0m in \u001b[0;36m<module>\u001b[0;34m()\u001b[0m\n\u001b[1;32m     28\u001b[0m \u001b[0mnos\u001b[0m\u001b[0;34m=\u001b[0m\u001b[0;34m{\u001b[0m\u001b[0;36m1\u001b[0m\u001b[0;34m,\u001b[0m\u001b[0;36m2\u001b[0m\u001b[0;34m,\u001b[0m\u001b[0;36m3\u001b[0m\u001b[0;34m,\u001b[0m\u001b[0;36m4\u001b[0m\u001b[0;34m,\u001b[0m\u001b[0;36m5\u001b[0m\u001b[0;34m}\u001b[0m\u001b[0;34m\u001b[0m\u001b[0;34m\u001b[0m\u001b[0m\n\u001b[1;32m     29\u001b[0m \u001b[0;32mdel\u001b[0m \u001b[0mnos\u001b[0m\u001b[0;34m\u001b[0m\u001b[0;34m\u001b[0m\u001b[0m\n\u001b[0;32m---> 30\u001b[0;31m \u001b[0mprint\u001b[0m\u001b[0;34m(\u001b[0m\u001b[0mnos\u001b[0m\u001b[0;34m)\u001b[0m\u001b[0;34m\u001b[0m\u001b[0;34m\u001b[0m\u001b[0m\n\u001b[0m\u001b[1;32m     31\u001b[0m \u001b[0;34m\u001b[0m\u001b[0m\n",
            "\u001b[0;31mNameError\u001b[0m: name 'nos' is not defined"
          ]
        }
      ]
    },
    {
      "cell_type": "markdown",
      "source": [
        "Looping through Sets"
      ],
      "metadata": {
        "id": "_lfmrr_4y6J8"
      }
    },
    {
      "cell_type": "code",
      "source": [
        "nos={1,2,3,4,5}\n",
        "for i in nos:\n",
        "  print(i)"
      ],
      "metadata": {
        "colab": {
          "base_uri": "https://localhost:8080/"
        },
        "id": "3cyw6IufxqI-",
        "outputId": "8ec24455-2509-497f-aed4-ee925ceecd9f"
      },
      "execution_count": null,
      "outputs": [
        {
          "output_type": "stream",
          "name": "stdout",
          "text": [
            "1\n",
            "2\n",
            "3\n",
            "4\n",
            "5\n"
          ]
        }
      ]
    },
    {
      "cell_type": "markdown",
      "source": [
        "Joining the Sets"
      ],
      "metadata": {
        "id": "0y_xSaJBzB7c"
      }
    },
    {
      "cell_type": "code",
      "source": [
        "# union() method\n",
        "\n",
        "even={2,4,6,8}\n",
        "odd={1,3,5,7,9}\n",
        "nos=even.union(odd)\n",
        "print(nos)"
      ],
      "metadata": {
        "colab": {
          "base_uri": "https://localhost:8080/"
        },
        "id": "tWplMhcMy-RD",
        "outputId": "cd1e38aa-a701-4c22-cf86-429a64e371bc"
      },
      "execution_count": null,
      "outputs": [
        {
          "output_type": "stream",
          "name": "stdout",
          "text": [
            "{1, 2, 3, 4, 5, 6, 7, 8, 9}\n"
          ]
        }
      ]
    },
    {
      "cell_type": "code",
      "source": [
        "# update() method\n",
        "\n",
        "nos1={1,2,3}\n",
        "nos2={4,5,6}\n",
        "nos1.update(nos2)\n",
        "print(nos1)\n"
      ],
      "metadata": {
        "colab": {
          "base_uri": "https://localhost:8080/"
        },
        "id": "M5nYxogHzSZa",
        "outputId": "39fa84a2-50af-4d8c-dcbc-498f95ddaf2c"
      },
      "execution_count": null,
      "outputs": [
        {
          "output_type": "stream",
          "name": "stdout",
          "text": [
            "{1, 2, 3, 4, 5, 6}\n"
          ]
        }
      ]
    },
    {
      "cell_type": "code",
      "source": [
        "# intersection() method\n",
        "\n",
        "nos1={1,2,3,4,5}\n",
        "nos2={4,5,6,7,8}\n",
        "nos=nos1.intersection(nos2)\n",
        "print(nos)"
      ],
      "metadata": {
        "colab": {
          "base_uri": "https://localhost:8080/"
        },
        "id": "e61WViOJzwQi",
        "outputId": "dd9034a2-7d74-47b5-e350-9d296ae9c7d4"
      },
      "execution_count": null,
      "outputs": [
        {
          "output_type": "stream",
          "name": "stdout",
          "text": [
            "{4, 5}\n"
          ]
        }
      ]
    },
    {
      "cell_type": "code",
      "source": [
        "# intersection_update() method\n",
        "\n",
        "nos1={1,2,3,4,5}\n",
        "nos2={4,5,6,7,8}\n",
        "nos1.intersection_update(nos2)\n",
        "print(nos1)"
      ],
      "metadata": {
        "colab": {
          "base_uri": "https://localhost:8080/"
        },
        "id": "sqdx_7ev0J9C",
        "outputId": "a402159a-0378-4a54-e1f4-7b0298871df0"
      },
      "execution_count": null,
      "outputs": [
        {
          "output_type": "stream",
          "name": "stdout",
          "text": [
            "{4, 5}\n"
          ]
        }
      ]
    },
    {
      "cell_type": "code",
      "source": [
        "# difference() method\n",
        "\n",
        "nos1={1,2,3,4,5}\n",
        "nos2={4,5,6,7,8}\n",
        "nos=nos2.difference(nos1)\n",
        "print(nos)"
      ],
      "metadata": {
        "colab": {
          "base_uri": "https://localhost:8080/"
        },
        "id": "JaxetfMv0VzK",
        "outputId": "f17e7aa6-85b4-4771-f85f-becb2a40e40b"
      },
      "execution_count": null,
      "outputs": [
        {
          "output_type": "stream",
          "name": "stdout",
          "text": [
            "{8, 6, 7}\n"
          ]
        }
      ]
    },
    {
      "cell_type": "code",
      "source": [
        "# symmetric_difference() method\n",
        "\n",
        "nos1={1,2,3,4,5}\n",
        "nos2={4,5,6,7,8}\n",
        "nos=nos2.symmetric_difference(nos1)\n",
        "print(nos)"
      ],
      "metadata": {
        "colab": {
          "base_uri": "https://localhost:8080/"
        },
        "id": "gUDa5KEG0vVT",
        "outputId": "04805620-51d8-48aa-8151-e6c9f30c5383"
      },
      "execution_count": null,
      "outputs": [
        {
          "output_type": "stream",
          "name": "stdout",
          "text": [
            "{1, 2, 3, 6, 7, 8}\n"
          ]
        }
      ]
    },
    {
      "cell_type": "code",
      "source": [
        "# symmetric_difference_update() method\n",
        "\n",
        "nos1={1,2,3,4,5}\n",
        "nos2={4,5,6,7,8}\n",
        "nos1.symmetric_difference_update(nos2)\n",
        "print(nos1)"
      ],
      "metadata": {
        "colab": {
          "base_uri": "https://localhost:8080/"
        },
        "id": "jqzrETYu1k5s",
        "outputId": "85b4e22f-4716-4fd5-995b-114336734ec6"
      },
      "execution_count": null,
      "outputs": [
        {
          "output_type": "stream",
          "name": "stdout",
          "text": [
            "{1, 2, 3, 6, 7, 8}\n"
          ]
        }
      ]
    },
    {
      "cell_type": "markdown",
      "source": [
        "***Dictionaries in Python***"
      ],
      "metadata": {
        "id": "omtOghygOnPz"
      }
    },
    {
      "cell_type": "code",
      "source": [
        "colors =\t{\n",
        "  \"color1\": \"Red\",\n",
        "  \"color2\": \"Green\",\n",
        "  \"color3\": \"Blue\",\n",
        "  \"rainbow\": 7,\n",
        "  \"rainbowcolors\": [\"V\",\"I\",\"B\",\"G\",\"Y\",\"O\",\"R\"]\n",
        "}\n",
        "print(colors)\n",
        "print(colors[\"rainbow\"])\n",
        "print(len(colors))"
      ],
      "metadata": {
        "colab": {
          "base_uri": "https://localhost:8080/"
        },
        "id": "EiM93pWFOsRH",
        "outputId": "03c796ac-becc-411a-ad7f-e4578ccd4907"
      },
      "execution_count": null,
      "outputs": [
        {
          "output_type": "stream",
          "name": "stdout",
          "text": [
            "{'color1': 'Red', 'color2': 'Green', 'color3': 'Blue', 'rainbow': 7, 'rainbowcolors': ['V', 'I', 'B', 'G', 'Y', 'O', 'R']}\n",
            "7\n",
            "5\n"
          ]
        }
      ]
    },
    {
      "cell_type": "markdown",
      "source": [
        "Accessing the Dictionary Elements"
      ],
      "metadata": {
        "id": "LSIU4K3ySI1K"
      }
    },
    {
      "cell_type": "code",
      "source": [
        "# using key name\n",
        "\n",
        "colors =\t{\n",
        "  \"color1\": \"Red\",\n",
        "  \"color2\": \"Green\",\n",
        "  \"color3\": \"Blue\",\n",
        "  \"rainbow\": 7,\n",
        "  \"rainbowcolors\": [\"V\",\"I\",\"B\",\"G\",\"Y\",\"O\",\"R\"]\n",
        "}\n",
        "x=colors[\"color2\"]\n",
        "print(x)\n"
      ],
      "metadata": {
        "colab": {
          "base_uri": "https://localhost:8080/"
        },
        "id": "YzVIl1zMPIjN",
        "outputId": "49135255-ecd8-460f-9a24-4893c221b7f5"
      },
      "execution_count": null,
      "outputs": [
        {
          "output_type": "stream",
          "name": "stdout",
          "text": [
            "Green\n"
          ]
        }
      ]
    },
    {
      "cell_type": "code",
      "source": [
        "# using get() method\n",
        "\n",
        "colors =\t{\n",
        "  \"color1\": \"Red\",\n",
        "  \"color2\": \"Green\",\n",
        "  \"color3\": \"Blue\",\n",
        "  \"rainbow\": 7,\n",
        "  \"rainbowcolors\": [\"V\",\"I\",\"B\",\"G\",\"Y\",\"O\",\"R\"]\n",
        "}\n",
        "x=colors.get(\"color3\")\n",
        "print(x)\n"
      ],
      "metadata": {
        "colab": {
          "base_uri": "https://localhost:8080/"
        },
        "id": "bPyK-IvFQIjZ",
        "outputId": "fc6e507b-0f49-446a-fd0f-d4ada68a2bad"
      },
      "execution_count": null,
      "outputs": [
        {
          "output_type": "stream",
          "name": "stdout",
          "text": [
            "Blue\n"
          ]
        }
      ]
    },
    {
      "cell_type": "code",
      "source": [
        "# using keys() method all the keys in the dictionary can be retrieved\n",
        "\n",
        "colors =\t{\n",
        "  \"color1\": \"Red\",\n",
        "  \"color2\": \"Green\",\n",
        "  \"color3\": \"Blue\",\n",
        "  \"rainbow\": 7,\n",
        "  \"rainbowcolors\": [\"V\",\"I\",\"B\",\"G\",\"Y\",\"O\",\"R\"]\n",
        "}\n",
        "print(colors.keys())\n"
      ],
      "metadata": {
        "colab": {
          "base_uri": "https://localhost:8080/"
        },
        "id": "tGvt_bb5Stwa",
        "outputId": "80910053-8ea7-401e-e2d3-0bd32a6efdcd"
      },
      "execution_count": null,
      "outputs": [
        {
          "output_type": "stream",
          "name": "stdout",
          "text": [
            "dict_keys(['color1', 'color2', 'color3', 'rainbow', 'rainbowcolors'])\n"
          ]
        }
      ]
    },
    {
      "cell_type": "code",
      "source": [
        "# using values() method all the values in the dictionary can be retrieved\n",
        "\n",
        "colors =\t{\n",
        "  \"color1\": \"Red\",\n",
        "  \"color2\": \"Green\",\n",
        "  \"color3\": \"Blue\",\n",
        "  \"rainbow\": 7,\n",
        "  \"rainbowcolors\": [\"V\",\"I\",\"B\",\"G\",\"Y\",\"O\",\"R\"]\n",
        "}\n",
        "print(colors.values())\n"
      ],
      "metadata": {
        "colab": {
          "base_uri": "https://localhost:8080/"
        },
        "id": "rl1jjfonTA_a",
        "outputId": "fa63a91b-226a-49a6-8839-c55cd3abd175"
      },
      "execution_count": null,
      "outputs": [
        {
          "output_type": "stream",
          "name": "stdout",
          "text": [
            "dict_values(['Red', 'Green', 'Blue', 7, ['V', 'I', 'B', 'G', 'Y', 'O', 'R']])\n"
          ]
        }
      ]
    },
    {
      "cell_type": "code",
      "source": [
        "# items() method will return each key value pair in a dictionary, as tuples in a list\n",
        "\n",
        "colors =\t{\n",
        "  \"color1\": \"Red\",\n",
        "  \"color2\": \"Green\",\n",
        "  \"color3\": \"Blue\",\n",
        "  \"rainbow\": 7,\n",
        "  \"rainbowcolors\": [\"V\",\"I\",\"B\",\"G\",\"Y\",\"O\",\"R\"]\n",
        "}\n",
        "print(colors.items())\n"
      ],
      "metadata": {
        "colab": {
          "base_uri": "https://localhost:8080/"
        },
        "id": "YnYE5WqyTbDl",
        "outputId": "ea549869-0f76-4ef8-d2a6-12c13cc43b30"
      },
      "execution_count": null,
      "outputs": [
        {
          "output_type": "stream",
          "name": "stdout",
          "text": [
            "dict_items([('color1', 'Red'), ('color2', 'Green'), ('color3', 'Blue'), ('rainbow', 7), ('rainbowcolors', ['V', 'I', 'B', 'G', 'Y', 'O', 'R'])])\n"
          ]
        }
      ]
    },
    {
      "cell_type": "code",
      "source": [
        "# using in and not in operator in dictionaries\n",
        "\n",
        "colors =\t{\n",
        "  \"color1\": \"Red\",\n",
        "  \"color2\": \"Green\",\n",
        "  \"color3\": \"Blue\",\n",
        "  \"rainbow\": 7,\n",
        "  \"rainbowcolors\": [\"V\",\"I\",\"B\",\"G\",\"Y\",\"O\",\"R\"]\n",
        "}\n",
        "print(\"rainbow\" in colors)\n",
        "print(\"rainbow\" not in colors)"
      ],
      "metadata": {
        "colab": {
          "base_uri": "https://localhost:8080/"
        },
        "id": "3UlE-FkIT1xG",
        "outputId": "4bcf07e7-d691-4567-bfd7-f0857bf1b368"
      },
      "execution_count": null,
      "outputs": [
        {
          "output_type": "stream",
          "name": "stdout",
          "text": [
            "True\n",
            "False\n"
          ]
        }
      ]
    },
    {
      "cell_type": "markdown",
      "source": [
        "Changing Elements in Dictionary"
      ],
      "metadata": {
        "id": "wPezK6_6UXWn"
      }
    },
    {
      "cell_type": "code",
      "source": [
        "# Method 1 : changing specific key value pair by specifying the key name\n",
        "\n",
        "colors =\t{\n",
        "  \"color1\": \"Red\",\n",
        "  \"color2\": \"Green\",\n",
        "  \"color3\": \"Blue\",\n",
        "  \"rainbow\": 7,\n",
        "  \"rainbowcolors\": [\"V\",\"I\",\"B\",\"G\",\"Y\",\"O\",\"R\"]\n",
        "}\n",
        "colors[\"color2\"]=\"Yellow\"\n",
        "print(colors)\n",
        "\n",
        "# using update() method\n",
        "\n",
        "colors.update({\"color1\":\"White\"})\n",
        "print(colors)"
      ],
      "metadata": {
        "colab": {
          "base_uri": "https://localhost:8080/"
        },
        "id": "8U9lDxftUPWV",
        "outputId": "8148ab33-890a-4a97-e3d1-190fdc61642d"
      },
      "execution_count": null,
      "outputs": [
        {
          "output_type": "stream",
          "name": "stdout",
          "text": [
            "{'color1': 'Red', 'color2': 'Yellow', 'color3': 'Blue', 'rainbow': 7, 'rainbowcolors': ['V', 'I', 'B', 'G', 'Y', 'O', 'R']}\n",
            "{'color1': 'White', 'color2': 'Yellow', 'color3': 'Blue', 'rainbow': 7, 'rainbowcolors': ['V', 'I', 'B', 'G', 'Y', 'O', 'R']}\n"
          ]
        }
      ]
    },
    {
      "cell_type": "markdown",
      "source": [
        "Adding Elements in Dictionary"
      ],
      "metadata": {
        "id": "ExOBYT46VgL7"
      }
    },
    {
      "cell_type": "code",
      "source": [
        "# by adding new key and value\n",
        "\n",
        "colors =\t{\n",
        "  \"color1\": \"Red\",\n",
        "  \"color2\": \"Green\",\n",
        "  \"color3\": \"Blue\"\n",
        "}\n",
        "colors[\"color4\"]=\"Magenta\"\n",
        "print(colors)\n",
        "\n",
        "# by using update() method\n",
        "\n",
        "colors.update({\"color5\":\"Pink\"})\n",
        "print(colors)"
      ],
      "metadata": {
        "id": "sIkOw1WsVAha",
        "colab": {
          "base_uri": "https://localhost:8080/"
        },
        "outputId": "7dfc52a7-e7ec-4ae3-ac7b-c82bbd2805e1"
      },
      "execution_count": null,
      "outputs": [
        {
          "output_type": "stream",
          "name": "stdout",
          "text": [
            "{'color1': 'Red', 'color2': 'Green', 'color3': 'Blue', 'color4': 'Magenta'}\n",
            "{'color1': 'Red', 'color2': 'Green', 'color3': 'Blue', 'color4': 'Magenta', 'color5': 'Pink'}\n"
          ]
        }
      ]
    },
    {
      "cell_type": "markdown",
      "source": [
        "Removing Elements from Dictionary"
      ],
      "metadata": {
        "id": "3LjnuYM8gsHf"
      }
    },
    {
      "cell_type": "code",
      "source": [
        "# using pop() method that removes the element specified with the key name\n",
        "\n",
        "colors =\t{\n",
        "  \"color1\": \"Red\",\n",
        "  \"color2\": \"Green\",\n",
        "  \"color3\": \"Blue\",\n",
        "  \"color4\": \"Magenta\",\n",
        "  \"color5\": \"Pink\"\n",
        "  }\n",
        "colors.pop(\"color4\")\n",
        "print(colors)\n",
        "\n",
        "# using popitem() method that removes the last inserted item\n",
        "\n",
        "colors.popitem()\n",
        "print(colors)\n",
        "\n",
        "# using del keyword to delete an element specified by the key name\n",
        "\n",
        "del colors[\"color1\"]\n",
        "print(colors)\n",
        "\n",
        "# using clear() method that clears the contents of the dictionary\n",
        "\n",
        "colors.clear()\n",
        "print(colors)\n",
        "\n",
        "# del is also used to delete the dictionary completely\n",
        "\n",
        "del colors\n",
        "print(colors)"
      ],
      "metadata": {
        "colab": {
          "base_uri": "https://localhost:8080/",
          "height": 270
        },
        "id": "jHA7pi2fgBQd",
        "outputId": "686b6409-9b08-482e-a4e9-1eb2d6371614"
      },
      "execution_count": null,
      "outputs": [
        {
          "output_type": "stream",
          "name": "stdout",
          "text": [
            "{'color1': 'Red', 'color2': 'Green', 'color3': 'Blue', 'color5': 'Pink'}\n",
            "{'color1': 'Red', 'color2': 'Green', 'color3': 'Blue'}\n",
            "{'color2': 'Green', 'color3': 'Blue'}\n",
            "{}\n"
          ]
        },
        {
          "output_type": "error",
          "ename": "NameError",
          "evalue": "ignored",
          "traceback": [
            "\u001b[0;31m---------------------------------------------------------------------------\u001b[0m",
            "\u001b[0;31mNameError\u001b[0m                                 Traceback (most recent call last)",
            "\u001b[0;32m<ipython-input-32-2f9134e2a1eb>\u001b[0m in \u001b[0;36m<module>\u001b[0;34m()\u001b[0m\n\u001b[1;32m     29\u001b[0m \u001b[0;34m\u001b[0m\u001b[0m\n\u001b[1;32m     30\u001b[0m \u001b[0;32mdel\u001b[0m \u001b[0mcolors\u001b[0m\u001b[0;34m\u001b[0m\u001b[0;34m\u001b[0m\u001b[0m\n\u001b[0;32m---> 31\u001b[0;31m \u001b[0mprint\u001b[0m\u001b[0;34m(\u001b[0m\u001b[0mcolors\u001b[0m\u001b[0;34m)\u001b[0m\u001b[0;34m\u001b[0m\u001b[0;34m\u001b[0m\u001b[0m\n\u001b[0m",
            "\u001b[0;31mNameError\u001b[0m: name 'colors' is not defined"
          ]
        }
      ]
    },
    {
      "cell_type": "markdown",
      "source": [
        "Looping through a Dictionary (using for loop)\n",
        "\n",
        "\n",
        "\n"
      ],
      "metadata": {
        "id": "X-B8mejlibDb"
      }
    },
    {
      "cell_type": "code",
      "source": [
        "colors =\t{\n",
        "  \"color1\": \"Red\",\n",
        "  \"color2\": \"Green\",\n",
        "  \"color3\": \"Blue\",\n",
        "  \"color4\": \"Magenta\",\n",
        "  \"color5\": \"Pink\"\n",
        "  }\n",
        "\n",
        "# while looping, default return values are keys of the dictionary\n",
        "\n",
        "for i in colors:\n",
        "  print(i)\n",
        "print(\"\\n\")\n",
        "\n",
        "# to return values in the dictionary\n",
        "\n",
        "for i in colors:\n",
        "  print(colors[i])\n",
        "\n"
      ],
      "metadata": {
        "colab": {
          "base_uri": "https://localhost:8080/"
        },
        "id": "DClrd_2thF4y",
        "outputId": "14d7b8d1-32d3-4627-8ae1-6f876eed3a0a"
      },
      "execution_count": null,
      "outputs": [
        {
          "output_type": "stream",
          "name": "stdout",
          "text": [
            "color1\n",
            "color2\n",
            "color3\n",
            "color4\n",
            "color5\n",
            "\n",
            "\n",
            "Red\n",
            "Green\n",
            "Blue\n",
            "Magenta\n",
            "Pink\n"
          ]
        }
      ]
    },
    {
      "cell_type": "code",
      "source": [
        "# Method 2 using keys() and values() methods\n",
        "\n",
        "colors =\t{\n",
        "  \"color1\": \"Red\",\n",
        "  \"color2\": \"Green\",\n",
        "  \"color3\": \"Blue\",\n",
        "  \"color4\": \"Magenta\",\n",
        "  \"color5\": \"Pink\"\n",
        "  }\n",
        "\n",
        "# while looping, default return values are keys of the dictionary\n",
        "\n",
        "for i in colors.keys():\n",
        "  print(i)\n",
        "print(\"\\n\")\n",
        "\n",
        "# to return values in the dictionary\n",
        "\n",
        "for i in colors.values():\n",
        "  print(i)"
      ],
      "metadata": {
        "colab": {
          "base_uri": "https://localhost:8080/"
        },
        "id": "YbIpue7DiyF4",
        "outputId": "ef451810-765c-4297-8522-fddf433a87a1"
      },
      "execution_count": null,
      "outputs": [
        {
          "output_type": "stream",
          "name": "stdout",
          "text": [
            "color1\n",
            "color2\n",
            "color3\n",
            "color4\n",
            "color5\n",
            "\n",
            "\n",
            "Red\n",
            "Green\n",
            "Blue\n",
            "Magenta\n",
            "Pink\n"
          ]
        }
      ]
    },
    {
      "cell_type": "code",
      "source": [
        "# Both keys and values can be looped together using items() method\n",
        "\n",
        "colors =\t{\n",
        "  \"color1\": \"Red\",\n",
        "  \"color2\": \"Green\",\n",
        "  \"color3\": \"Blue\",\n",
        "  \"color4\": \"Magenta\",\n",
        "  \"color5\": \"Pink\"\n",
        "  }\n",
        "\n",
        "for i,j in colors.items():\n",
        "  print(i,j)\n",
        "\n"
      ],
      "metadata": {
        "colab": {
          "base_uri": "https://localhost:8080/"
        },
        "id": "kgjj_ydzjyE5",
        "outputId": "89edc85c-6c6a-4f61-b41c-e1bbab0488d8"
      },
      "execution_count": null,
      "outputs": [
        {
          "output_type": "stream",
          "name": "stdout",
          "text": [
            "color1 Red\n",
            "color2 Green\n",
            "color3 Blue\n",
            "color4 Magenta\n",
            "color5 Pink\n"
          ]
        }
      ]
    },
    {
      "cell_type": "markdown",
      "source": [
        "Copying a Dictionary"
      ],
      "metadata": {
        "id": "V-QbcffEksQV"
      }
    },
    {
      "cell_type": "code",
      "source": [
        "\n",
        " # using copy() method\n",
        "\n",
        " colors =\t{\n",
        "  \"color1\": \"Red\",\n",
        "  \"color2\": \"Green\",\n",
        "  \"color3\": \"Blue\",\n",
        "  \"color4\": \"Magenta\",\n",
        "  \"color5\": \"Pink\"\n",
        "  }\n",
        "colors1=colors.copy()\n",
        "print(colors1)\n",
        "print(\"\\n\")\n",
        "\n",
        "# using dict() function\n",
        "\n",
        "colors =\t{\n",
        "  \"color1\": \"Red\",\n",
        "  \"color2\": \"Green\",\n",
        "  \"color3\": \"Blue\",\n",
        "  \"color4\": \"Magenta\",\n",
        "  \"color5\": \"Pink\"\n",
        "  }\n",
        "colors1=dict(colors)\n",
        "print(colors1)\n"
      ],
      "metadata": {
        "colab": {
          "base_uri": "https://localhost:8080/"
        },
        "id": "M1Df9Q3Tkvyv",
        "outputId": "ce0d4245-d6d6-4197-c766-7cd31130eb00"
      },
      "execution_count": null,
      "outputs": [
        {
          "output_type": "stream",
          "name": "stdout",
          "text": [
            "{'color1': 'Red', 'color2': 'Green', 'color3': 'Blue', 'color4': 'Magenta', 'color5': 'Pink'}\n",
            "\n",
            "\n",
            "{'color1': 'Red', 'color2': 'Green', 'color3': 'Blue', 'color4': 'Magenta', 'color5': 'Pink'}\n"
          ]
        }
      ]
    },
    {
      "cell_type": "markdown",
      "source": [
        "Nested Dictionaries"
      ],
      "metadata": {
        "id": "lWBWQfoCpwHw"
      }
    },
    {
      "cell_type": "code",
      "source": [
        "mycars= {\n",
        "    \"car1\" : {\n",
        "        \"Name\" : \"Honda Amaze\",\n",
        "        \"Model\" : 2021\n",
        "    },\n",
        "    \"car2\" : {\n",
        "        \"Name\" : \"Kia Seltos\",\n",
        "        \"Model\" : 2022\n",
        "    },\n",
        "    \"car3\" : {\n",
        "        \"Name\" : \"Tata Nexon\",\n",
        "        \"Model\" : 2020\n",
        "    }\n",
        "}\n",
        "print(mycars)"
      ],
      "metadata": {
        "colab": {
          "base_uri": "https://localhost:8080/"
        },
        "id": "2A3RZYC9pXkM",
        "outputId": "ccda7c4f-b309-4402-f88c-9a00fceb2f48"
      },
      "execution_count": null,
      "outputs": [
        {
          "output_type": "stream",
          "name": "stdout",
          "text": [
            "{'car1': {'Name': 'Honda Amaze', 'Model': 2021}, 'car2': {'Name': 'Kia Seltos', 'Model': 2022}, 'car3': {'Name': 'Tata Nexon', 'Model': 2020}}\n"
          ]
        }
      ]
    },
    {
      "cell_type": "code",
      "source": [
        "car1 = {\n",
        "        \"Name\" : \"Honda Amaze\",\n",
        "        \"Model\" : 2021\n",
        "    }\n",
        "car2 = {\n",
        "        \"Name\" : \"Kia Seltos\",\n",
        "        \"Model\" : 2022\n",
        "    }\n",
        "car3 = {\n",
        "        \"Name\" : \"Tata Nexon\",\n",
        "        \"Model\" : 2020\n",
        "    }\n",
        "mycars={\n",
        "    \"mycar1\" : car1,\n",
        "    \"mycar2\" : car2,\n",
        "    \"mycar3\" : car3\n",
        "}\n",
        "\n",
        "print(mycars)\n"
      ],
      "metadata": {
        "colab": {
          "base_uri": "https://localhost:8080/"
        },
        "id": "5Vt7QSQ9qpvz",
        "outputId": "369dbc0d-1669-4dcc-ccb3-60f3b778bd96"
      },
      "execution_count": null,
      "outputs": [
        {
          "output_type": "stream",
          "name": "stdout",
          "text": [
            "{'mycar1': {'Name': 'Honda Amaze', 'Model': 2021}, 'mycar2': {'Name': 'Kia Seltos', 'Model': 2022}, 'mycar3': {'Name': 'Tata Nexon', 'Model': 2020}}\n"
          ]
        }
      ]
    },
    {
      "cell_type": "markdown",
      "source": [
        "# ***Python Functions***"
      ],
      "metadata": {
        "id": "EqzaJYLystWc"
      }
    },
    {
      "cell_type": "markdown",
      "source": [
        "A function is a block of code which only runs when it is called. You can pass data, known as parameters, into a function. A function can return data as a result.\n",
        "\n",
        "***def*** keyword is used to define a function in python"
      ],
      "metadata": {
        "id": "IkzLYyO55IsO"
      }
    },
    {
      "cell_type": "code",
      "source": [
        "def func():                       # function definition\n",
        "  print(\"This is a function\")\n",
        "\n",
        "func()                           # function call"
      ],
      "metadata": {
        "colab": {
          "base_uri": "https://localhost:8080/"
        },
        "id": "MFvJcze0rPng",
        "outputId": "383ef65e-5f57-4518-945f-7a67543546b7"
      },
      "execution_count": null,
      "outputs": [
        {
          "output_type": "stream",
          "name": "stdout",
          "text": [
            "This is a function\n"
          ]
        }
      ]
    },
    {
      "cell_type": "code",
      "source": [
        "# function with single argument\n",
        "\n",
        "def func(cname):\n",
        "  print(\"Honda \" + cname)\n",
        "\n",
        "func(\"Amaze\")\n",
        "func(\"City\")\n",
        "func(\"Jazz\")"
      ],
      "metadata": {
        "colab": {
          "base_uri": "https://localhost:8080/"
        },
        "id": "3eDTfZC05v9w",
        "outputId": "d6e6cfa9-240d-40d5-8299-b554c9d74c0b"
      },
      "execution_count": null,
      "outputs": [
        {
          "output_type": "stream",
          "name": "stdout",
          "text": [
            "Honda Amaze\n",
            "Honda City\n",
            "Honda Jazz\n"
          ]
        }
      ]
    },
    {
      "cell_type": "code",
      "source": [
        "# function with multiple arguments\n",
        "\n",
        "def func(company, cname):\n",
        "  print(company + \" \" + cname)\n",
        "\n",
        "func(\"Honda\", \"Amaze\")\n",
        "func(\"Tata\", \"Nexon\")\n",
        "func(\"MG\", \"Hector\")"
      ],
      "metadata": {
        "colab": {
          "base_uri": "https://localhost:8080/"
        },
        "id": "7q7aZ1Ww6d8A",
        "outputId": "67fcfa68-b23a-4865-f7b0-f9b7610729e8"
      },
      "execution_count": null,
      "outputs": [
        {
          "output_type": "stream",
          "name": "stdout",
          "text": [
            "Honda Amaze\n",
            "Tata Nexon\n",
            "MG Hector\n"
          ]
        }
      ]
    },
    {
      "cell_type": "code",
      "source": [
        "# function with arbitrary arguments.\n",
        "# If the number of arguments is unknown, add a * before the parameter name. The function will receive a tuple of arguments\n",
        "\n",
        "def func(*cars):\n",
        "  print(\"My favorite car is \" + cars[2])\n",
        "\n",
        "func(\"Honda Amaze\", \"Tata Nexon\", \"MG Hector\")"
      ],
      "metadata": {
        "colab": {
          "base_uri": "https://localhost:8080/"
        },
        "id": "p12ALVjQ7LLj",
        "outputId": "ce508e73-28fc-4cfa-c0d7-1c14ffa6d84a"
      },
      "execution_count": null,
      "outputs": [
        {
          "output_type": "stream",
          "name": "stdout",
          "text": [
            "My favorite car is MG Hector\n"
          ]
        }
      ]
    },
    {
      "cell_type": "code",
      "source": [
        "# function with Default Parameter Value.\n",
        "# If we call the function without argument, it uses the default value\n",
        "\n",
        "def func(cname = \"BMW\"):\n",
        "  print(\"I have a \" + cname + \" car\")\n",
        "\n",
        "func(\"Honda Amaze\")\n",
        "func(\"Tata Nexon\")\n",
        "func()"
      ],
      "metadata": {
        "colab": {
          "base_uri": "https://localhost:8080/"
        },
        "id": "0lSq3WG28KsI",
        "outputId": "23984b63-2658-4797-816e-cca5d3f8c35f"
      },
      "execution_count": null,
      "outputs": [
        {
          "output_type": "stream",
          "name": "stdout",
          "text": [
            "I have a Honda Amaze car\n",
            "I have a Tata Nexon car\n",
            "I have a BMW car\n"
          ]
        }
      ]
    },
    {
      "cell_type": "code",
      "source": [
        "# Passing a List as an Argument\n",
        "\n",
        "def func(cars):\n",
        "  for i in cars:\n",
        "    print(\"I have \" + i + \" car\")\n",
        "\n",
        "cnames = [\"Honda Amaze\", \"Tata Nexon\", \"MG Hector\"]\n",
        "\n",
        "func(cnames)"
      ],
      "metadata": {
        "colab": {
          "base_uri": "https://localhost:8080/"
        },
        "id": "kXJgZPYhVuM0",
        "outputId": "5b566c71-4340-4a86-8f59-ebe7ba5acfd1"
      },
      "execution_count": null,
      "outputs": [
        {
          "output_type": "stream",
          "name": "stdout",
          "text": [
            "I have Honda Amaze car\n",
            "I have Tata Nexon car\n",
            "I have MG Hector car\n"
          ]
        }
      ]
    },
    {
      "cell_type": "markdown",
      "source": [
        "Return Values"
      ],
      "metadata": {
        "id": "592324m8Wn_M"
      }
    },
    {
      "cell_type": "code",
      "source": [
        "# Return Value using return statement\n",
        "\n",
        "def func(x):\n",
        "  return x + 10\n",
        "\n",
        "print(func(5))\n",
        "print(func(10))\n",
        "print(func(9))"
      ],
      "metadata": {
        "colab": {
          "base_uri": "https://localhost:8080/"
        },
        "id": "a6jDw9aUWQQs",
        "outputId": "7922a08e-8d94-4d42-9377-608673fd8218"
      },
      "execution_count": null,
      "outputs": [
        {
          "output_type": "stream",
          "name": "stdout",
          "text": [
            "15\n",
            "20\n",
            "19\n"
          ]
        }
      ]
    },
    {
      "cell_type": "code",
      "source": [
        "# function definitions cannot be empty. For a function definition with no content, include the pass statement to avoid getting an error.\n",
        "def func():\n",
        "  pass"
      ],
      "metadata": {
        "id": "HQipG0ohW9Te"
      },
      "execution_count": null,
      "outputs": []
    },
    {
      "cell_type": "markdown",
      "source": [
        "Recursion"
      ],
      "metadata": {
        "id": "vcPvLE1QXuHl"
      }
    },
    {
      "cell_type": "code",
      "source": [
        "def fact(n):\n",
        "   if n == 1:\n",
        "       return n\n",
        "   else:\n",
        "       return n*fact(n-1)\n",
        "\n",
        "num=input(\"Enter the number : \")\n",
        "n = int(num)\n",
        "\n",
        "# check if the number is negative\n",
        "if n < 0:\n",
        "   print(\"Invalid input\")\n",
        "elif n == 0:\n",
        "   print(\"The factorial of 0 is 1\")\n",
        "else:\n",
        "   print(\"The factorial of \" + num + \" is\", fact(n))"
      ],
      "metadata": {
        "colab": {
          "base_uri": "https://localhost:8080/"
        },
        "id": "r4DVyNQUXK3n",
        "outputId": "233e0e69-d988-4e92-de5a-137f04d445c0"
      },
      "execution_count": null,
      "outputs": [
        {
          "output_type": "stream",
          "name": "stdout",
          "text": [
            "Enter the number : 5\n",
            "The factorial of 5 is 120\n"
          ]
        }
      ]
    }
  ]
}